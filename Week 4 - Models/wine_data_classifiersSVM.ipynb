{
 "cells": [
  {
   "cell_type": "markdown",
   "metadata": {},
   "source": [
    "# loading  the white wine and red wine datasets"
   ]
  },
  {
   "cell_type": "code",
   "execution_count": 1,
   "metadata": {},
   "outputs": [
    {
     "name": "stdout",
     "output_type": "stream",
     "text": [
      "hellow world\n"
     ]
    }
   ],
   "source": [
    "import pandas as pd\n",
    "import matplotlib.pyplot as plt\n",
    "from sklearn.model_selection import train_test_split\n",
    "from sklearn.preprocessing import StandardScaler\n",
    "from sklearn.svm import SVC\n",
    "from sklearn.metrics import accuracy_score, precision_score, recall_score, confusion_matrix, classification_report\n",
    "import numpy as np\n",
    "\n",
    "print(\"hellow world\")"
   ]
  },
  {
   "cell_type": "code",
   "execution_count": 2,
   "metadata": {},
   "outputs": [],
   "source": [
    "# Load the red and white wine datasets from CSV files\n",
    "# 'red.csv' contains data about red wine and 'white.csv' contains data about white wine.\n",
    "red_wine = pd.read_csv('red.csv')\n",
    "white_wine = pd.read_csv('white.csv')\n"
   ]
  },
  {
   "cell_type": "markdown",
   "metadata": {},
   "source": [
    "# Combine data from both files and add color column, fill NaN values wiht mean value"
   ]
  },
  {
   "cell_type": "code",
   "execution_count": 3,
   "metadata": {},
   "outputs": [],
   "source": [
    "# Add a 'color' column to distinguish between wine types in the combined dataset\n",
    "# Assign '0' for red wine and '1' for white wine to help in binary classification later\n",
    "red_wine['color'] = 0  # 0 represents red wine\n",
    "white_wine['color'] = 1  # 1 represents white wine\n",
    "\n",
    "# Combine the red and white wine datasets into a single dataset for processing\n",
    "# Ignore the original indices to create a new unified index\n",
    "wine_data = pd.concat([red_wine, white_wine], ignore_index=True)\n",
    "\n",
    "# Handle missing values by replacing them with the mean of their respective columns\n",
    "# This ensures that missing data does not negatively affect the training of the model\n",
    "wine_data.fillna(wine_data.mean(), inplace=True)"
   ]
  },
  {
   "cell_type": "markdown",
   "metadata": {},
   "source": [
    "# Plot Histogram of data"
   ]
  },
  {
   "cell_type": "code",
   "execution_count": null,
   "metadata": {},
   "outputs": [],
   "source": [
    "# Iterate over each column (excluding 'color') to plot histograms\n",
    "for column in wine_data.columns:\n",
    "    if column != 'color':  # Skip the 'color' column\n",
    "        plt.figure(figsize=(10, 6))\n",
    "        \n",
    "        # Plot the histogram for red wine\n",
    "        red_wine[column].plot(kind='hist', bins=30, alpha=0.5, color='red', label='Red Wine')\n",
    "        \n",
    "        # Plot the histogram for white wine\n",
    "        white_wine[column].plot(kind='hist', bins=30, alpha=0.5, color='blue', label='White Wine')\n",
    "        \n",
    "        # Add labels, title, and legend\n",
    "        plt.title(f'Histogram of {column}')\n",
    "        plt.xlabel(column)\n",
    "        plt.ylabel('Frequency')\n",
    "        plt.legend()\n",
    "        \n",
    "        # Save the plot as a PNG file\n",
    "        plt.savefig(f'{column}_histogram.png')\n",
    "        \n",
    "        # Display the plot\n",
    "        #plt.show()  #uncomment to see histograms here"
   ]
  },
  {
   "cell_type": "markdown",
   "metadata": {},
   "source": [
    "# Prepare training data (X) and labels (Y), labels can be color or wine quality"
   ]
  },
  {
   "cell_type": "code",
   "execution_count": 12,
   "metadata": {},
   "outputs": [],
   "source": [
    "# Define the target column for classification\n",
    "# The target can either be 'color' for binary classification (red vs. white wine)\n",
    "# or 'quality' for multi-class classification (wine quality on a numeric scale)\n",
    "target_column = 'quality'  # Change to 'quality' if multi-class classification is desired\n",
    "\n",
    "# Separate features (X) and target (y)\n",
    "# The features are all columns except 'color' and 'quality', depending on the target\n",
    "# The target is the column defined above, either 'color' or 'quality'\n",
    "X = wine_data.drop(columns=['color', 'quality'])\n",
    "y = wine_data[target_column]\n",
    "\n",
    "# Standardize the features to bring them to the same scale\n",
    "# This helps the neural network model to converge faster and more reliably\n",
    "scaler = StandardScaler()\n",
    "X_scaled = scaler.fit_transform(X)\n",
    "\n",
    "# Split the dataset into training and testing sets (80% train, 20% test)\n",
    "# A random state is used for reproducibility of the results\n",
    "X_train, X_test, y_train, y_test = train_test_split(X_scaled, y, test_size=0.2, random_state=42)"
   ]
  },
  {
   "cell_type": "markdown",
   "metadata": {},
   "source": [
    "# Create Classifier and apply to test data"
   ]
  },
  {
   "cell_type": "code",
   "execution_count": 17,
   "metadata": {},
   "outputs": [
    {
     "name": "stdout",
     "output_type": "stream",
     "text": [
      "\n",
      "SVM Training Details:\n",
      "Number of support vectors for each class: [  24  173 1517 1984  851  157    4]\n",
      "Indices of support vectors: [  61  205  235 ... 2355 3051 3742]\n"
     ]
    }
   ],
   "source": [
    "# Create and train the support vector machine (SVM) classifier\n",
    "# We use an SVM with a radial basis function (RBF) kernel and a random state for reproducibility\n",
    "svm = SVC(kernel='poly', random_state=42) # changed kernel to rbf from poly\n",
    "svm.fit(X_train, y_train)\n",
    "\n",
    "# Make predictions on the test set using the trained model\n",
    "y_pred = svm.predict(X_test)\n",
    "\n",
    "# Print basic information about the trained SVM\n",
    "print(\"\\nSVM Training Details:\")\n",
    "print(f\"Number of support vectors for each class: {svm.n_support_}\")\n",
    "print(f\"Indices of support vectors: {svm.support_}\")"
   ]
  },
  {
   "cell_type": "markdown",
   "metadata": {},
   "source": [
    "# Compare predicted labels with grount truth labels "
   ]
  },
  {
   "cell_type": "code",
   "execution_count": 18,
   "metadata": {},
   "outputs": [
    {
     "name": "stdout",
     "output_type": "stream",
     "text": [
      "Accuracy: 0.55\n",
      "Precision: 0.55\n",
      "Recall: 0.55\n",
      "\n",
      "Confusion Matrix:\n",
      "[[  1   0   2   3   0   0   0]\n",
      " [  2   2  20  19   0   0   0]\n",
      " [  0   0 221 179   2   0   0]\n",
      " [  0   1 119 462  15   0   0]\n",
      " [  0   0   3 177  34   1   0]\n",
      " [  0   0   0  27   9   0   0]\n",
      " [  0   0   0   1   0   0   0]]\n",
      "\n",
      "Classification Report:\n",
      "              precision    recall  f1-score   support\n",
      "\n",
      "           3       0.33      0.17      0.22         6\n",
      "           4       0.67      0.05      0.09        43\n",
      "           5       0.61      0.55      0.58       402\n",
      "           6       0.53      0.77      0.63       597\n",
      "           7       0.57      0.16      0.25       215\n",
      "           8       0.00      0.00      0.00        36\n",
      "           9       0.00      0.00      0.00         1\n",
      "\n",
      "    accuracy                           0.55      1300\n",
      "   macro avg       0.39      0.24      0.25      1300\n",
      "weighted avg       0.55      0.55      0.51      1300\n",
      "\n"
     ]
    }
   ],
   "source": [
    "# Calculate evaluation metrics for the model's performance\n",
    "# Metrics include accuracy, precision, recall, and a confusion matrix\n",
    "accuracy = accuracy_score(y_test, y_pred)\n",
    "precision = precision_score(y_test, y_pred, average='weighted', zero_division=0)\n",
    "recall = recall_score(y_test, y_pred, average='weighted', zero_division=0)\n",
    "conf_matrix = confusion_matrix(y_test, y_pred)\n",
    "\n",
    "# Display the calculated metrics to understand the model's performance\n",
    "print(f\"Accuracy: {accuracy:.2f}\")\n",
    "print(f\"Precision: {precision:.2f}\")\n",
    "print(f\"Recall: {recall:.2f}\")\n",
    "print(\"\\nConfusion Matrix:\")\n",
    "print(conf_matrix)\n",
    "print(\"\\nClassification Report:\")\n",
    "print(classification_report(y_test, y_pred, zero_division=0))"
   ]
  }
 ],
 "metadata": {
  "kernelspec": {
   "display_name": ".venv (3.12.3)",
   "language": "python",
   "name": "python3"
  },
  "language_info": {
   "codemirror_mode": {
    "name": "ipython",
    "version": 3
   },
   "file_extension": ".py",
   "mimetype": "text/x-python",
   "name": "python",
   "nbconvert_exporter": "python",
   "pygments_lexer": "ipython3",
   "version": "3.12.3"
  }
 },
 "nbformat": 4,
 "nbformat_minor": 2
}
