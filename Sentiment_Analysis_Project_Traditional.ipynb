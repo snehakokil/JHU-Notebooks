{
  "cells": [
    {
      "cell_type": "markdown",
      "metadata": {
        "colab_type": "text",
        "id": "view-in-github"
      },
      "source": [
        "<a href=\"https://colab.research.google.com/github/snehakokil/JHU-Notebooks/blob/main/Sentiment_Analysis_Project.ipynb\" target=\"_parent\"><img src=\"https://colab.research.google.com/assets/colab-badge.svg\" alt=\"Open In Colab\"/></a>"
      ]
    },
    {
      "cell_type": "code",
      "execution_count": 10,
      "metadata": {
        "id": "L8Gpbp5w2a-w"
      },
      "outputs": [
        {
          "name": "stdout",
          "output_type": "stream",
          "text": [
            "hello world\n"
          ]
        }
      ],
      "source": [
        "#!pip install pandas matplotlib scikit-learn numpy\n",
        "\n",
        "\n",
        "import pandas as pd\n",
        "import matplotlib.pyplot as plt\n",
        "from sklearn.model_selection import train_test_split\n",
        "from sklearn.preprocessing import StandardScaler\n",
        "from sklearn.neural_network import MLPClassifier\n",
        "from sklearn.metrics import accuracy_score, precision_score, recall_score, confusion_matrix, classification_report\n",
        "import numpy as np\n",
        "import ast\n",
        "\n",
        "print(\"hello world\")"
      ]
    },
    {
      "cell_type": "markdown",
      "metadata": {},
      "source": [
        "## Task 1: Load and Explore the Dataset\n",
        "The given dataset is in a text file. I converted the text file into CSV for easier processing and loaded into a Pandas Dataframe. Next, I cleaned the dataset by filling in the empty values with a blank string. "
      ]
    },
    {
      "cell_type": "code",
      "execution_count": 13,
      "metadata": {},
      "outputs": [
        {
          "name": "stdout",
          "output_type": "stream",
          "text": [
            "✅ Dataset loaded and saved as CSV!\n",
            "                                      text     label\n",
            "0       I love this product, it's amazing!  positive\n",
            "1       This is the worst experience ever.  negative\n",
            "2  Absolutely fantastic! Highly recommend.  positive\n",
            "3          Not good, really disappointing.  negative\n",
            "4          I am extremely happy with this.  positive\n",
            "✅ Data cleaned!\n",
            "                                      text     label\n",
            "0       I love this product, it's amazing!  positive\n",
            "1       This is the worst experience ever.  negative\n",
            "2  Absolutely fantastic! Highly recommend.  positive\n",
            "3          Not good, really disappointing.  negative\n",
            "4          I am extremely happy with this.  positive\n"
          ]
        }
      ],
      "source": [
        "# load the sentiment analysis dataset from a .txt file and save it as a .csv file\n",
        "# Clean the data and handle potential parsing issues\n",
        "# Path to your input .txt file\n",
        "input_file = \"Product_Sentiment.txt\"\n",
        "output_file = \"Product_Sentiment.csv\"\n",
        "\n",
        "data = []\n",
        "\n",
        "with open(input_file, \"r\", encoding=\"utf-8\") as f:\n",
        "    for line in f:\n",
        "        line = line.strip().rstrip(\",\")  # remove trailing comma\n",
        "        if line:  # skip empty lines\n",
        "            try:\n",
        "                # Safely evaluate the tuple string into a Python tuple\n",
        "                text, label = ast.literal_eval(line)\n",
        "                data.append((text, label))\n",
        "            except Exception as e:\n",
        "                print(f\"Skipping line due to error: {line} -> {e}\")\n",
        "\n",
        "# Create DataFrame\n",
        "df = pd.DataFrame(data, columns=[\"text\", \"label\"])\n",
        "\n",
        "# Save as CSV\n",
        "df.to_csv(output_file, index=False, encoding=\"utf-8\")\n",
        "\n",
        "print(\"✅ Dataset loaded and saved as CSV!\")\n",
        "print(df.head())\n",
        "\n",
        "# read the csv file and clean the data to remove any rows with missing or null values\n",
        "df = pd.read_csv(\"Product_Sentiment.csv\")\n",
        "df.fillna('', inplace=True)\n",
        "df.reset_index(drop=True, inplace=True) # reset index after dropping rows   \n",
        "print(\"✅ Data cleaned!\")\n",
        "print(df.head())\n"
      ]
    },
    {
      "cell_type": "markdown",
      "metadata": {},
      "source": [
        "# "
      ]
    }
  ],
  "metadata": {
    "colab": {
      "authorship_tag": "ABX9TyN8juxLJryT+9lAkKtFFYVP",
      "include_colab_link": true,
      "provenance": []
    },
    "kernelspec": {
      "display_name": "Python 3",
      "name": "python3"
    },
    "language_info": {
      "codemirror_mode": {
        "name": "ipython",
        "version": 3
      },
      "file_extension": ".py",
      "mimetype": "text/x-python",
      "name": "python",
      "nbconvert_exporter": "python",
      "pygments_lexer": "ipython3",
      "version": "3.12.3"
    }
  },
  "nbformat": 4,
  "nbformat_minor": 0
}
