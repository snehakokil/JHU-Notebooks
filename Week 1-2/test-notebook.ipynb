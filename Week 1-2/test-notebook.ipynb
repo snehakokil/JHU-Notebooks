{
 "cells": [
  {
   "cell_type": "code",
   "execution_count": null,
   "id": "a652e4b1",
   "metadata": {},
   "outputs": [
    {
     "name": "stdout",
     "output_type": "stream",
     "text": [
      "Not updated credit score for customer ID cid-001\n",
      "Updated credit score for customer ID cid-002\n",
      "Not updated credit score for customer ID cid-003\n",
      "Not updated credit score for customer ID cid-004\n",
      "Updated credit score for customer ID cid-005\n",
      "       cid  cred_score  age debt_status  num_cards  prec_on_time\n",
      "2  cid-003         581   38     no-debt          4          0.20\n",
      "3  cid-004         462   41     in-debt          1          0.32\n",
      "4  cid-005         788   62     no-debt          2          0.85\n"
     ]
    },
    {
     "data": {
      "text/html": [
       "<div>\n",
       "<style scoped>\n",
       "    .dataframe tbody tr th:only-of-type {\n",
       "        vertical-align: middle;\n",
       "    }\n",
       "\n",
       "    .dataframe tbody tr th {\n",
       "        vertical-align: top;\n",
       "    }\n",
       "\n",
       "    .dataframe thead th {\n",
       "        text-align: right;\n",
       "    }\n",
       "</style>\n",
       "<table border=\"1\" class=\"dataframe\">\n",
       "  <thead>\n",
       "    <tr style=\"text-align: right;\">\n",
       "      <th></th>\n",
       "      <th>cid</th>\n",
       "      <th>cred_score</th>\n",
       "      <th>age</th>\n",
       "      <th>debt_status</th>\n",
       "      <th>num_cards</th>\n",
       "      <th>prec_on_time</th>\n",
       "    </tr>\n",
       "  </thead>\n",
       "  <tbody>\n",
       "    <tr>\n",
       "      <th>count</th>\n",
       "      <td>5</td>\n",
       "      <td>5.000000</td>\n",
       "      <td>5.000000</td>\n",
       "      <td>5</td>\n",
       "      <td>5.000000</td>\n",
       "      <td>5.000000</td>\n",
       "    </tr>\n",
       "    <tr>\n",
       "      <th>unique</th>\n",
       "      <td>5</td>\n",
       "      <td>NaN</td>\n",
       "      <td>NaN</td>\n",
       "      <td>2</td>\n",
       "      <td>NaN</td>\n",
       "      <td>NaN</td>\n",
       "    </tr>\n",
       "    <tr>\n",
       "      <th>top</th>\n",
       "      <td>cid-001</td>\n",
       "      <td>NaN</td>\n",
       "      <td>NaN</td>\n",
       "      <td>no-debt</td>\n",
       "      <td>NaN</td>\n",
       "      <td>NaN</td>\n",
       "    </tr>\n",
       "    <tr>\n",
       "      <th>freq</th>\n",
       "      <td>1</td>\n",
       "      <td>NaN</td>\n",
       "      <td>NaN</td>\n",
       "      <td>3</td>\n",
       "      <td>NaN</td>\n",
       "      <td>NaN</td>\n",
       "    </tr>\n",
       "    <tr>\n",
       "      <th>mean</th>\n",
       "      <td>NaN</td>\n",
       "      <td>643.600000</td>\n",
       "      <td>38.800000</td>\n",
       "      <td>NaN</td>\n",
       "      <td>2.400000</td>\n",
       "      <td>0.554000</td>\n",
       "    </tr>\n",
       "    <tr>\n",
       "      <th>std</th>\n",
       "      <td>NaN</td>\n",
       "      <td>128.950766</td>\n",
       "      <td>14.584238</td>\n",
       "      <td>NaN</td>\n",
       "      <td>1.140175</td>\n",
       "      <td>0.284218</td>\n",
       "    </tr>\n",
       "    <tr>\n",
       "      <th>min</th>\n",
       "      <td>NaN</td>\n",
       "      <td>462.000000</td>\n",
       "      <td>25.000000</td>\n",
       "      <td>NaN</td>\n",
       "      <td>1.000000</td>\n",
       "      <td>0.200000</td>\n",
       "    </tr>\n",
       "    <tr>\n",
       "      <th>25%</th>\n",
       "      <td>NaN</td>\n",
       "      <td>581.000000</td>\n",
       "      <td>28.000000</td>\n",
       "      <td>NaN</td>\n",
       "      <td>2.000000</td>\n",
       "      <td>0.320000</td>\n",
       "    </tr>\n",
       "    <tr>\n",
       "      <th>50%</th>\n",
       "      <td>NaN</td>\n",
       "      <td>650.000000</td>\n",
       "      <td>38.000000</td>\n",
       "      <td>NaN</td>\n",
       "      <td>2.000000</td>\n",
       "      <td>0.620000</td>\n",
       "    </tr>\n",
       "    <tr>\n",
       "      <th>75%</th>\n",
       "      <td>NaN</td>\n",
       "      <td>737.000000</td>\n",
       "      <td>41.000000</td>\n",
       "      <td>NaN</td>\n",
       "      <td>3.000000</td>\n",
       "      <td>0.780000</td>\n",
       "    </tr>\n",
       "    <tr>\n",
       "      <th>max</th>\n",
       "      <td>NaN</td>\n",
       "      <td>788.000000</td>\n",
       "      <td>62.000000</td>\n",
       "      <td>NaN</td>\n",
       "      <td>4.000000</td>\n",
       "      <td>0.850000</td>\n",
       "    </tr>\n",
       "  </tbody>\n",
       "</table>\n",
       "</div>"
      ],
      "text/plain": [
       "            cid  cred_score        age debt_status  num_cards  prec_on_time\n",
       "count         5    5.000000   5.000000           5   5.000000      5.000000\n",
       "unique        5         NaN        NaN           2        NaN           NaN\n",
       "top     cid-001         NaN        NaN     no-debt        NaN           NaN\n",
       "freq          1         NaN        NaN           3        NaN           NaN\n",
       "mean        NaN  643.600000  38.800000         NaN   2.400000      0.554000\n",
       "std         NaN  128.950766  14.584238         NaN   1.140175      0.284218\n",
       "min         NaN  462.000000  25.000000         NaN   1.000000      0.200000\n",
       "25%         NaN  581.000000  28.000000         NaN   2.000000      0.320000\n",
       "50%         NaN  650.000000  38.000000         NaN   2.000000      0.620000\n",
       "75%         NaN  737.000000  41.000000         NaN   3.000000      0.780000\n",
       "max         NaN  788.000000  62.000000         NaN   4.000000      0.850000"
      ]
     },
     "execution_count": 18,
     "metadata": {},
     "output_type": "execute_result"
    }
   ],
   "source": [
    "import pandas as pd\n",
    "\n",
    "customers = [{'cid':'cid-001','cred_score':650,'age':25, 'debt_status':'in-debt', 'num_cards':3, 'prec_on_time':0.62},\n",
    "             {'cid':'cid-002', 'cred_score':723, 'age':28, 'debt_status': 'no-debt', 'num_cards':2, 'prec_on_time':0.78},\n",
    "             {'cid': 'cid-003', 'cred_score':581, 'age':38, 'debt_status':'no-debt','num_cards':4, 'prec_on_time':0.20},\n",
    "             {'cid':'cid-004','cred_score':462, 'age':41, 'debt_status':'in-debt','num_cards':1, 'prec_on_time':0.32},\n",
    "             {'cid': 'cid-005', 'cred_score':773, 'age':62, 'debt_status':'no-debt', 'num_cards':2, 'prec_on_time':0.85}]\n",
    "\n",
    "def update_credit_score(cust):\n",
    "    for cust in customers:\n",
    "        credit_score = cust['cred_score']\n",
    "        if cust['prec_on_time'] > 0.7:\n",
    "            credit_score = round(cust['cred_score'] * 1.02)\n",
    "            print('Updated credit score for customer ID', cust['cid'])\n",
    "            cust['cred_score'] = credit_score\n",
    "        else:\n",
    "            print('Not updated credit score for customer ID', cust['cid'])\n",
    "\n",
    "update_credit_score(customers)\n",
    "\n",
    "df = pd.DataFrame(customers)\n",
    "print(df.tail(3))\n",
    "df.describe()\n",
    "\n",
    "\n",
    "\n",
    "\n",
    "\n"
   ]
  },
  {
   "cell_type": "code",
   "execution_count": 1,
   "id": "90c57ba9",
   "metadata": {},
   "outputs": [
    {
     "name": "stdout",
     "output_type": "stream",
     "text": [
      "Hello Sneha\n"
     ]
    }
   ],
   "source": [
    "name = 'Sneha'\n",
    "print(\"Hello\", name)"
   ]
  },
  {
   "cell_type": "code",
   "execution_count": 28,
   "id": "b20b7c46",
   "metadata": {},
   "outputs": [
    {
     "name": "stdout",
     "output_type": "stream",
     "text": [
      "None\n"
     ]
    }
   ],
   "source": [
    "def calculate_average(*numbers):\n",
    "    if not numbers:\n",
    "        return None\n",
    "    \n",
    "    avg = sum(numbers) // len(numbers)\n",
    "    return avg\n",
    "\n",
    "print(calculate_average())"
   ]
  },
  {
   "cell_type": "code",
   "execution_count": null,
   "id": "d1e61258",
   "metadata": {},
   "outputs": [
    {
     "name": "stdout",
     "output_type": "stream",
     "text": [
      "('users', [1, 2, 3, 10])\n"
     ]
    }
   ],
   "source": [
    "data = (\"users\", [1, 2, 3])\n",
    "\n",
    "# You can't change the tuple directly...\n",
    "# data[0] = \"clients\"  ❌\n",
    "\n",
    "# ...but the list inside is still mutable:\n",
    "data[1].append(10)\n",
    "print(data)  # ('users', [1, 2, 3, 4])\n",
    "\n",
    "\n"
   ]
  },
  {
   "cell_type": "code",
   "execution_count": 69,
   "id": "45b0e4ca",
   "metadata": {},
   "outputs": [
    {
     "name": "stdout",
     "output_type": "stream",
     "text": [
      "User name is Alice\n",
      "New age for Alice is 33\n",
      "{'name': 'Alice', 'age': 33}\n",
      "dict_keys(['name', 'age'])\n",
      "dict_values(['Alice', 33])\n"
     ]
    }
   ],
   "source": [
    "# Dictionaries\n",
    "dict = {\"name\": \"Alice\", \"age\": 30, \"country\": \"USA\"}\n",
    "print(f\"User name is {dict.get(\"name\")}\")\n",
    "\n",
    "dict[\"age\"] = 33\n",
    "print(f\"New age for {dict[\"name\"]} is {dict[\"age\"]}\")\n",
    "\n",
    "del dict[\"country\"]\n",
    "print(dict)\n",
    "\n",
    "print(dict.keys())\n",
    "print(dict.values())\n"
   ]
  },
  {
   "cell_type": "code",
   "execution_count": 51,
   "id": "0da0107c",
   "metadata": {},
   "outputs": [
    {
     "name": "stdout",
     "output_type": "stream",
     "text": [
      "/Users/sneha\n",
      "New directory test is now created!\n"
     ]
    }
   ],
   "source": [
    "import os\n",
    "\n",
    "current = os.getcwd()\n",
    "print(os.path.expanduser(\"~\"))\n",
    "newDir = \"test\"\n",
    "\n",
    "if not os.path.exists(newDir):\n",
    "    os.makedirs(newDir)\n",
    "    print(f\"New directory {newDir} is now created!\")\n",
    "else:\n",
    "    print(f\"Directory {newDir} already exists\")\n"
   ]
  },
  {
   "cell_type": "code",
   "execution_count": 53,
   "id": "f8bf9285",
   "metadata": {},
   "outputs": [
    {
     "name": "stdout",
     "output_type": "stream",
     "text": [
      "File 'test_file' is updated within 'test'\n",
      "This is the sample content to be written within the new file. Adios!\n"
     ]
    }
   ],
   "source": [
    "file_name = \"test_file\"\n",
    "file_path = os.path.join(newDir,file_name)\n",
    "\n",
    "content = \"This is the sample content to be written within the new file. Adios!\"\n",
    "\n",
    "with open(file_path, \"w\") as file:\n",
    "    file.write(content)\n",
    "    print(f\"File '{file_name}' is updated within '{newDir}'\")\n",
    "with open(file_path, \"r\") as file:\n",
    "    print(file.read())"
   ]
  },
  {
   "cell_type": "code",
   "execution_count": 58,
   "id": "af1b2562",
   "metadata": {},
   "outputs": [
    {
     "name": "stdout",
     "output_type": "stream",
     "text": [
      "Refreshing the file content. \n",
      "See you tomorrow!\n",
      "\n",
      "additional text appended to this file\n",
      "Refreshing the file content. \n",
      "See you tomorrow!\n"
     ]
    }
   ],
   "source": [
    "with open(file_path, \"a\") as file:\n",
    "    file.write(\"\\n\\nadditional text appended to this file\")\n",
    "with open(file_path, \"r\") as file:\n",
    "    print(file.read())\n",
    "\n",
    "\n",
    "with open(file_path, \"w\") as file:\n",
    "    file.write(\"Refreshing the file content. \\nSee you tomorrow!\")\n",
    "with open(file_path, \"r\") as file:\n",
    "    print(file.read())"
   ]
  },
  {
   "cell_type": "code",
   "execution_count": 63,
   "id": "0d17050a",
   "metadata": {},
   "outputs": [
    {
     "name": "stdout",
     "output_type": "stream",
     "text": [
      "apple\n",
      "banana\n",
      "cherry\n"
     ]
    }
   ],
   "source": [
    "fruits = ['apple', 'banana', 'cherry']\n",
    "\n",
    "for fruit in fruits:\n",
    "\n",
    "    print(fruit)"
   ]
  },
  {
   "cell_type": "code",
   "execution_count": 3,
   "id": "6a9be5b7",
   "metadata": {},
   "outputs": [
    {
     "name": "stdout",
     "output_type": "stream",
     "text": [
      "Mapping a to dog\n",
      "Mapping b to cat\n",
      "{'a': 'dog', 'b': 'cat'}\n",
      "{'dog', 'cat'}\n",
      "True\n"
     ]
    }
   ],
   "source": [
    "pattern = \"abba\"\n",
    "s = \"dog cat cat dog\"\n",
    "\n",
    "# Write your code below\n",
    "words = s.split() # get all the words from input into a list\n",
    "\n",
    "if(len(pattern) != len(words)):\n",
    "    # if lengths do not match, pattern does not match either\n",
    "    print(False)\n",
    "    exit()\n",
    "\n",
    "pattern_map = {}\n",
    "used_words = set() # need to have unique words\n",
    "\n",
    "for i in range(len(pattern)):\n",
    "    if pattern[i] not in pattern_map:\n",
    "        print(f\"Mapping {pattern[i]} to {words[i]}\")\n",
    "        if words[i] in used_words:\n",
    "            print(False)\n",
    "            exit()\n",
    "        pattern_map[pattern[i]] = words[i]\n",
    "        used_words.add(words[i])\n",
    "    else:\n",
    "        if pattern_map[pattern[i]] != words[i]:\n",
    "            print(False)\n",
    "            exit()\n",
    "print(pattern_map)\n",
    "print(used_words)\n",
    "print(True)"
   ]
  },
  {
   "cell_type": "code",
   "execution_count": null,
   "id": "dd0ed84c",
   "metadata": {},
   "outputs": [],
   "source": [
    "input_list = eval(input())\n",
    "\n",
    "# Write your code below\n",
    "n = len(input_list)\n",
    "arr_pos = list(enumerate(input_list))\n",
    "arr_pos.sort(key=lambda x: x[1])  # Sort by value\n",
    "\n",
    "visited = [False] * n\n",
    "swaps = 0\n",
    "\n",
    "for i in range(n):\n",
    "    # Skip already visited or already in correct place\n",
    "    if visited[i] or arr_pos[i][0] == i:\n",
    "        continue\n",
    "\n",
    "    cycle_size = 0\n",
    "    j = i\n",
    "\n",
    "    # Follow the cycle\n",
    "    while not visited[j]:\n",
    "        visited[j] = True\n",
    "        j = arr_pos[j][0]\n",
    "        cycle_size += 1\n",
    "\n",
    "    if cycle_size > 1:\n",
    "        swaps += (cycle_size - 1)\n",
    "print(swaps)"
   ]
  },
  {
   "cell_type": "code",
   "execution_count": null,
   "id": "7fdfe35e",
   "metadata": {},
   "outputs": [],
   "source": [
    "import itertools\n",
    "\n",
    "input_list = eval(input())\n",
    "\n",
    "# Write your code below\n",
    "outcome = [list(subset_tuple) for i in range(len(input_list) + 1) for subset_tuple in itertools.combinations(input_list, i)]\n",
    "print(outcome)"
   ]
  },
  {
   "cell_type": "code",
   "execution_count": null,
   "id": "9cb82960",
   "metadata": {},
   "outputs": [],
   "source": [
    "def find_largest_product(nums):\n",
    "    # Write your code below\n",
    "    max_product = 0\n",
    "    curr_product = -1\n",
    "\n",
    "    for i in range(len(nums)-1):\n",
    "        curr_product = nums[i] * nums[i+1]\n",
    "        if curr_product <= 0:\n",
    "            curr_product = max_product\n",
    "        if curr_product >= max_product:\n",
    "            max_product = curr_product\n",
    "    \n",
    "    return max_product\n",
    "\n",
    "nums = [int(s) for s in input().split()]\n",
    "print(find_largest_product(nums))"
   ]
  },
  {
   "cell_type": "code",
   "execution_count": 1,
   "id": "2d8018d2",
   "metadata": {},
   "outputs": [
    {
     "name": "stdout",
     "output_type": "stream",
     "text": [
      "3\n"
     ]
    }
   ],
   "source": [
    "numbers = [1, 2, 3, 4, 5]\n",
    "print(numbers[2])"
   ]
  },
  {
   "cell_type": "code",
   "execution_count": 4,
   "id": "dbc40dd9",
   "metadata": {},
   "outputs": [
    {
     "name": "stdout",
     "output_type": "stream",
     "text": [
      "[10, 20, 30, 40]\n"
     ]
    }
   ],
   "source": [
    "x = [10, 20, 30]\n",
    "x.append(40)\n",
    "print(x)\n"
   ]
  },
  {
   "cell_type": "code",
   "execution_count": 6,
   "id": "4386827b",
   "metadata": {},
   "outputs": [
    {
     "data": {
      "image/png": "[encoded data removed]",
      "text/plain": [
       "<Figure size 640x480 with 1 Axes>"
      ]
     },
     "metadata": {},
     "output_type": "display_data"
    }
   ],
   "source": [
    "import matplotlib.pyplot as plt \n",
    "data = [1, 2, 2, 3, 3, 3, 4, 4, 4, 4] \n",
    "plt.hist(data, bins=5) \n",
    "plt.title(\"Data Distribution\") \n",
    "plt.show()"
   ]
  },
  {
   "cell_type": "code",
   "execution_count": 2,
   "id": "2285a58d",
   "metadata": {},
   "outputs": [
    {
     "name": "stdout",
     "output_type": "stream",
     "text": [
      "{\"you're\", 'by', 'after', \"they'll\", 'so', 'with', 'they', 'when', 'y', 'a', \"needn't\", 're', 'about', \"i've\", 'what', 'my', 'just', 'am', 'nor', 'we', 'ourselves', 'don', 'our', 'each', 'as', 'hers', 'too', 'myself', 'those', 'whom', 'been', 'be', 'below', \"it'll\", 'then', 'to', 'if', 'wouldn', 'now', \"they've\", 'before', 'mightn', 'how', 'you', 'here', 'into', 'mustn', \"you'll\", 'there', \"you've\", \"mightn't\", \"it's\", 've', \"wouldn't\", 't', 'wasn', \"haven't\", 'while', 'again', \"i'm\", 'all', \"didn't\", \"i'd\", 'didn', 'own', 'doesn', 'aren', 'ours', 'for', \"he'd\", 'doing', \"he's\", 'off', \"hadn't\", 'an', \"we'll\", 'which', 'who', 'not', \"they'd\", 'other', \"she'll\", 'haven', 'under', 'ma', 'in', 'had', 'are', \"mustn't\", 'until', 'm', 'shan', 'is', 'such', 'more', \"we'd\", \"i'll\", \"wasn't\", 'does', 'yourself', 'ain', 'out', 'only', 'should', 'herself', 'itself', \"they're\", 'yourselves', 'it', 'some', 'yours', 'and', 'any', \"that'll\", 'theirs', 'll', 'shouldn', 'won', \"shouldn't\", 'the', 'me', 'its', 'them', 'between', 'i', \"you'd\", \"don't\", 'up', \"weren't\", 'was', 'have', \"doesn't\", \"isn't\", 'over', 'her', \"she'd\", 'than', 'hadn', 'most', 'further', 'having', 'because', 'very', 'against', 'from', 'do', 'he', 'these', \"aren't\", \"it'd\", 'no', 'that', 'down', 'why', 'but', 'can', 'weren', 'this', 'd', \"won't\", 'or', 'hasn', 'of', 'couldn', 'themselves', 'needn', 'him', \"he'll\", \"hasn't\", 'were', 'isn', 'himself', \"should've\", \"we're\", 'their', \"she's\", 'his', 'once', 'o', \"couldn't\", 'during', 'on', 'same', 'she', 'where', 'your', \"we've\", 'above', 'did', 'has', 'through', \"shan't\", 'at', 'being', 's', 'few', 'will', 'both'}\n"
     ]
    },
    {
     "name": "stderr",
     "output_type": "stream",
     "text": [
      "[nltk_data] Downloading package stopwords to /Users/sneha/nltk_data...\n",
      "[nltk_data]   Unzipping corpora/stopwords.zip.\n"
     ]
    }
   ],
   "source": [
    "import nltk\n",
    "nltk.download('stopwords') # Downloads the list of stopwords\n",
    "\n",
    "from nltk.corpus import stopwords\n",
    "\n",
    "stop_words = set(stopwords.words('english'))\n",
    "\n",
    "print(stop_words)"
   ]
  },
  {
   "cell_type": "code",
   "execution_count": 1,
   "id": "9ef06f8c",
   "metadata": {},
   "outputs": [
    {
     "name": "stdout",
     "output_type": "stream",
     "text": [
      "[ 1 -1  2]\n"
     ]
    }
   ],
   "source": [
    "import numpy as np\n",
    "\n",
    "# Define query, keys, and values\n",
    "query = np.array([1, 0, -1])\n",
    "keys = np.array([[1, 1, 0], [0, -1, 1], [1, 0, -1]])\n",
    "\n",
    "# Compute attention scores (dot product of query with each key)\n",
    "attention_scores = np.dot(keys, query)\n",
    "\n",
    "print(attention_scores)"
   ]
  }
 ],
 "metadata": {
  "kernelspec": {
   "display_name": ".venv (3.12.3)",
   "language": "python",
   "name": "python3"
  },
  "language_info": {
   "codemirror_mode": {
    "name": "ipython",
    "version": 3
   },
   "file_extension": ".py",
   "mimetype": "text/x-python",
   "name": "python",
   "nbconvert_exporter": "python",
   "pygments_lexer": "ipython3",
   "version": "3.12.3"
  }
 },
 "nbformat": 4,
 "nbformat_minor": 5
}
